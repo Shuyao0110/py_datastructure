{
 "cells": [
  {
   "cell_type": "markdown",
   "metadata": {},
   "source": [
    "# 二叉搜索树 BST 共20道"
   ]
  },
  {
   "cell_type": "code",
   "execution_count": null,
   "metadata": {},
   "outputs": [],
   "source": [
    "# 95. Unique Binary Search Tree II\n",
    "# Definition for a binary tree node.\n",
    "# class TreeNode(object):\n",
    "#     def __init__(self, val=0, left=None, right=None):\n",
    "#         self.val = val\n",
    "#         self.left = left\n",
    "#         self.right = right\n",
    "class Solution(object):\n",
    "    def generateTrees(self, n):\n",
    "        \"\"\"\n",
    "        :type n: int\n",
    "        :rtype: List[TreeNode]\n",
    "        \"\"\"\n",
    "        nodes = []\n",
    "        for i in range(1,n+1):\n",
    "            nodes.append(i)\n",
    "        return self.build(nodes)\n",
    "\n",
    "    def build(self, nodes):\n",
    "        res = []\n",
    "        if not nodes:\n",
    "            return [None]\n",
    "        for node in nodes:\n",
    "            left = self.build(nodes[:nodes.index(node)])\n",
    "            right = self.build(nodes[nodes.index(node)+1:])\n",
    "            for l in left:\n",
    "                for r in right:\n",
    "                    root = TreeNode(node)\n",
    "                    root.left = l\n",
    "                    root.right = r\n",
    "                    res.append(root)\n",
    "        return res"
   ]
  },
  {
   "cell_type": "code",
   "execution_count": null,
   "metadata": {},
   "outputs": [],
   "source": [
    "# 96.Unique Binary Searh Tree\n",
    "class Solution(object):\n",
    "    def numTrees(self, n):\n",
    "        \"\"\"\n",
    "        :type n: int\n",
    "        :rtype: int\n",
    "        \"\"\"\n",
    "        nodes = []\n",
    "        \n",
    "        for i in range(n):\n",
    "            nodes.append(i+1)\n",
    "        return self.build(nodes)\n",
    "\n",
    "    def build(self,nodes):\n",
    "        res =0\n",
    "       \n",
    "        if not nodes:\n",
    "            return 1\n",
    "        if self.memo.has_key(len(nodes)):\n",
    "            return self.memo[len(nodes)]\n",
    "        for i in range(len(nodes)):\n",
    "            left = self.build(nodes[:i])\n",
    "            right = self.build(nodes[i+1:])\n",
    "\n",
    "            res += left*right\n",
    "            self.memo[len(nodes)]=res\n",
    "        return res"
   ]
  }
 ],
 "metadata": {
  "language_info": {
   "name": "python"
  },
  "orig_nbformat": 4
 },
 "nbformat": 4,
 "nbformat_minor": 2
}
